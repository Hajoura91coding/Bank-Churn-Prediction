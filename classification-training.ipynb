{
 "cells": [
  {
   "cell_type": "code",
   "execution_count": 1,
   "id": "bcf77c0d",
   "metadata": {
    "_cell_guid": "b1076dfc-b9ad-4769-8c92-a6c4dae69d19",
    "_uuid": "8f2839f25d086af736a60e9eeb907d3b93b6e0e5",
    "execution": {
     "iopub.execute_input": "2024-01-30T11:10:09.923720Z",
     "iopub.status.busy": "2024-01-30T11:10:09.923034Z",
     "iopub.status.idle": "2024-01-30T11:10:10.683458Z",
     "shell.execute_reply": "2024-01-30T11:10:10.682536Z"
    },
    "papermill": {
     "duration": 0.775227,
     "end_time": "2024-01-30T11:10:10.685912",
     "exception": false,
     "start_time": "2024-01-30T11:10:09.910685",
     "status": "completed"
    },
    "tags": []
   },
   "outputs": [
    {
     "name": "stdout",
     "output_type": "stream",
     "text": [
      "/kaggle/input/playground-series-s4e1/sample_submission.csv\n",
      "/kaggle/input/playground-series-s4e1/train.csv\n",
      "/kaggle/input/playground-series-s4e1/test.csv\n",
      "/kaggle/input/bank-customer-churn-prediction/Churn_Modelling.csv\n"
     ]
    }
   ],
   "source": [
    "# This Python 3 environment comes with many helpful analytics libraries installed\n",
    "# It is defined by the kaggle/python Docker image: https://github.com/kaggle/docker-python\n",
    "# For example, here's several helpful packages to load\n",
    "\n",
    "import numpy as np # linear algebra\n",
    "import pandas as pd # data processing, CSV file I/O (e.g. pd.read_csv)\n",
    "\n",
    "# Input data files are available in the read-only \"../input/\" directory\n",
    "# For example, running this (by clicking run or pressing Shift+Enter) will list all files under the input directory\n",
    "\n",
    "import os\n",
    "for dirname, _, filenames in os.walk('/kaggle/input'):\n",
    "    for filename in filenames:\n",
    "        print(os.path.join(dirname, filename))\n",
    "\n",
    "# You can write up to 20GB to the current directory (/kaggle/working/) that gets preserved as output when you create a version using \"Save & Run All\" \n",
    "# You can also write temporary files to /kaggle/temp/, but they won't be saved outside of the current session"
   ]
  },
  {
   "cell_type": "code",
   "execution_count": 2,
   "id": "9dd44c7f",
   "metadata": {
    "execution": {
     "iopub.execute_input": "2024-01-30T11:10:10.708468Z",
     "iopub.status.busy": "2024-01-30T11:10:10.708053Z",
     "iopub.status.idle": "2024-01-30T11:10:11.746953Z",
     "shell.execute_reply": "2024-01-30T11:10:11.746140Z"
    },
    "papermill": {
     "duration": 1.052592,
     "end_time": "2024-01-30T11:10:11.749368",
     "exception": false,
     "start_time": "2024-01-30T11:10:10.696776",
     "status": "completed"
    },
    "tags": []
   },
   "outputs": [
    {
     "name": "stderr",
     "output_type": "stream",
     "text": [
      "/opt/conda/lib/python3.10/site-packages/scipy/__init__.py:146: UserWarning: A NumPy version >=1.16.5 and <1.23.0 is required for this version of SciPy (detected version 1.24.3\n",
      "  warnings.warn(f\"A NumPy version >={np_minversion} and <{np_maxversion}\"\n"
     ]
    }
   ],
   "source": [
    "import matplotlib.pyplot as plt\n",
    "import seaborn as sns"
   ]
  },
  {
   "cell_type": "markdown",
   "id": "f07e151c",
   "metadata": {
    "papermill": {
     "duration": 0.010592,
     "end_time": "2024-01-30T11:10:11.771654",
     "exception": false,
     "start_time": "2024-01-30T11:10:11.761062",
     "status": "completed"
    },
    "tags": []
   },
   "source": [
    " **your task is to predict whether a customer continues with their account or closes it (e.g., churns)**"
   ]
  },
  {
   "cell_type": "code",
   "execution_count": 3,
   "id": "b55b9468",
   "metadata": {
    "execution": {
     "iopub.execute_input": "2024-01-30T11:10:11.795684Z",
     "iopub.status.busy": "2024-01-30T11:10:11.795325Z",
     "iopub.status.idle": "2024-01-30T11:10:12.709546Z",
     "shell.execute_reply": "2024-01-30T11:10:12.708603Z"
    },
    "papermill": {
     "duration": 0.92969,
     "end_time": "2024-01-30T11:10:12.711950",
     "exception": false,
     "start_time": "2024-01-30T11:10:11.782260",
     "status": "completed"
    },
    "tags": []
   },
   "outputs": [],
   "source": [
    "from sklearn.model_selection import train_test_split\n",
    "from sklearn.preprocessing import MinMaxScaler\n",
    "from catboost import CatBoostClassifier\n",
    "from sklearn.metrics import roc_auc_score, roc_curve, auc, classification_report\n",
    "from sklearn.inspection import permutation_importance\n",
    "from sklearn.model_selection import StratifiedKFold\n",
    "from sklearn.pipeline import Pipeline, make_pipeline\n",
    "from sklearn.preprocessing import OneHotEncoder\n",
    "from sklearn.preprocessing import PolynomialFeatures\n",
    "from sklearn.compose import ColumnTransformer\n",
    "from sklearn.model_selection import GridSearchCV, RandomizedSearchCV\n",
    "from scipy.stats import uniform, randint"
   ]
  },
  {
   "cell_type": "code",
   "execution_count": 4,
   "id": "a688fd14",
   "metadata": {
    "execution": {
     "iopub.execute_input": "2024-01-30T11:10:12.737854Z",
     "iopub.status.busy": "2024-01-30T11:10:12.736954Z",
     "iopub.status.idle": "2024-01-30T11:10:13.567594Z",
     "shell.execute_reply": "2024-01-30T11:10:13.566735Z"
    },
    "papermill": {
     "duration": 0.845554,
     "end_time": "2024-01-30T11:10:13.569901",
     "exception": false,
     "start_time": "2024-01-30T11:10:12.724347",
     "status": "completed"
    },
    "tags": []
   },
   "outputs": [],
   "source": [
    "dtrain = pd.read_csv('/kaggle/input/playground-series-s4e1/train.csv')\n",
    "original = pd.read_csv('/kaggle/input/bank-customer-churn-prediction/Churn_Modelling.csv')\n",
    "test = pd.read_csv('/kaggle/input/playground-series-s4e1/test.csv')\n",
    "sample = pd.read_csv('/kaggle/input/playground-series-s4e1/sample_submission.csv')"
   ]
  },
  {
   "cell_type": "code",
   "execution_count": 5,
   "id": "472a5c39",
   "metadata": {
    "execution": {
     "iopub.execute_input": "2024-01-30T11:10:13.593514Z",
     "iopub.status.busy": "2024-01-30T11:10:13.593183Z",
     "iopub.status.idle": "2024-01-30T11:10:13.871073Z",
     "shell.execute_reply": "2024-01-30T11:10:13.870111Z"
    },
    "papermill": {
     "duration": 0.292312,
     "end_time": "2024-01-30T11:10:13.873527",
     "exception": false,
     "start_time": "2024-01-30T11:10:13.581215",
     "status": "completed"
    },
    "tags": []
   },
   "outputs": [],
   "source": [
    "train = pd.concat((dtrain, original), axis=0).drop(['RowNumber'], axis=1).drop_duplicates().dropna()"
   ]
  },
  {
   "cell_type": "code",
   "execution_count": 6,
   "id": "53bcdb63",
   "metadata": {
    "execution": {
     "iopub.execute_input": "2024-01-30T11:10:13.898280Z",
     "iopub.status.busy": "2024-01-30T11:10:13.897908Z",
     "iopub.status.idle": "2024-01-30T11:10:13.905151Z",
     "shell.execute_reply": "2024-01-30T11:10:13.904173Z"
    },
    "papermill": {
     "duration": 0.021738,
     "end_time": "2024-01-30T11:10:13.907414",
     "exception": false,
     "start_time": "2024-01-30T11:10:13.885676",
     "status": "completed"
    },
    "tags": []
   },
   "outputs": [
    {
     "data": {
      "text/plain": [
       "(165034, 14)"
      ]
     },
     "execution_count": 6,
     "metadata": {},
     "output_type": "execute_result"
    }
   ],
   "source": [
    "train.shape"
   ]
  },
  {
   "cell_type": "code",
   "execution_count": 7,
   "id": "f5858bf5",
   "metadata": {
    "execution": {
     "iopub.execute_input": "2024-01-30T11:10:13.932011Z",
     "iopub.status.busy": "2024-01-30T11:10:13.931679Z",
     "iopub.status.idle": "2024-01-30T11:10:13.956749Z",
     "shell.execute_reply": "2024-01-30T11:10:13.955843Z"
    },
    "papermill": {
     "duration": 0.039498,
     "end_time": "2024-01-30T11:10:13.958814",
     "exception": false,
     "start_time": "2024-01-30T11:10:13.919316",
     "status": "completed"
    },
    "tags": []
   },
   "outputs": [
    {
     "name": "stdout",
     "output_type": "stream",
     "text": [
      "train : (165034, 14)\n",
      "test : (110023, 13)\n"
     ]
    },
    {
     "data": {
      "text/html": [
       "<div>\n",
       "<style scoped>\n",
       "    .dataframe tbody tr th:only-of-type {\n",
       "        vertical-align: middle;\n",
       "    }\n",
       "\n",
       "    .dataframe tbody tr th {\n",
       "        vertical-align: top;\n",
       "    }\n",
       "\n",
       "    .dataframe thead th {\n",
       "        text-align: right;\n",
       "    }\n",
       "</style>\n",
       "<table border=\"1\" class=\"dataframe\">\n",
       "  <thead>\n",
       "    <tr style=\"text-align: right;\">\n",
       "      <th></th>\n",
       "      <th>id</th>\n",
       "      <th>CustomerId</th>\n",
       "      <th>Surname</th>\n",
       "      <th>CreditScore</th>\n",
       "      <th>Geography</th>\n",
       "      <th>Gender</th>\n",
       "      <th>Age</th>\n",
       "      <th>Tenure</th>\n",
       "      <th>Balance</th>\n",
       "      <th>NumOfProducts</th>\n",
       "      <th>HasCrCard</th>\n",
       "      <th>IsActiveMember</th>\n",
       "      <th>EstimatedSalary</th>\n",
       "      <th>Exited</th>\n",
       "    </tr>\n",
       "  </thead>\n",
       "  <tbody>\n",
       "    <tr>\n",
       "      <th>0</th>\n",
       "      <td>0.0</td>\n",
       "      <td>15674932</td>\n",
       "      <td>Okwudilichukwu</td>\n",
       "      <td>668</td>\n",
       "      <td>France</td>\n",
       "      <td>Male</td>\n",
       "      <td>33.0</td>\n",
       "      <td>3</td>\n",
       "      <td>0.00</td>\n",
       "      <td>2</td>\n",
       "      <td>1.0</td>\n",
       "      <td>0.0</td>\n",
       "      <td>181449.97</td>\n",
       "      <td>0</td>\n",
       "    </tr>\n",
       "    <tr>\n",
       "      <th>1</th>\n",
       "      <td>1.0</td>\n",
       "      <td>15749177</td>\n",
       "      <td>Okwudiliolisa</td>\n",
       "      <td>627</td>\n",
       "      <td>France</td>\n",
       "      <td>Male</td>\n",
       "      <td>33.0</td>\n",
       "      <td>1</td>\n",
       "      <td>0.00</td>\n",
       "      <td>2</td>\n",
       "      <td>1.0</td>\n",
       "      <td>1.0</td>\n",
       "      <td>49503.50</td>\n",
       "      <td>0</td>\n",
       "    </tr>\n",
       "    <tr>\n",
       "      <th>2</th>\n",
       "      <td>2.0</td>\n",
       "      <td>15694510</td>\n",
       "      <td>Hsueh</td>\n",
       "      <td>678</td>\n",
       "      <td>France</td>\n",
       "      <td>Male</td>\n",
       "      <td>40.0</td>\n",
       "      <td>10</td>\n",
       "      <td>0.00</td>\n",
       "      <td>2</td>\n",
       "      <td>1.0</td>\n",
       "      <td>0.0</td>\n",
       "      <td>184866.69</td>\n",
       "      <td>0</td>\n",
       "    </tr>\n",
       "    <tr>\n",
       "      <th>3</th>\n",
       "      <td>3.0</td>\n",
       "      <td>15741417</td>\n",
       "      <td>Kao</td>\n",
       "      <td>581</td>\n",
       "      <td>France</td>\n",
       "      <td>Male</td>\n",
       "      <td>34.0</td>\n",
       "      <td>2</td>\n",
       "      <td>148882.54</td>\n",
       "      <td>1</td>\n",
       "      <td>1.0</td>\n",
       "      <td>1.0</td>\n",
       "      <td>84560.88</td>\n",
       "      <td>0</td>\n",
       "    </tr>\n",
       "    <tr>\n",
       "      <th>4</th>\n",
       "      <td>4.0</td>\n",
       "      <td>15766172</td>\n",
       "      <td>Chiemenam</td>\n",
       "      <td>716</td>\n",
       "      <td>Spain</td>\n",
       "      <td>Male</td>\n",
       "      <td>33.0</td>\n",
       "      <td>5</td>\n",
       "      <td>0.00</td>\n",
       "      <td>2</td>\n",
       "      <td>1.0</td>\n",
       "      <td>1.0</td>\n",
       "      <td>15068.83</td>\n",
       "      <td>0</td>\n",
       "    </tr>\n",
       "  </tbody>\n",
       "</table>\n",
       "</div>"
      ],
      "text/plain": [
       "    id  CustomerId         Surname  CreditScore Geography Gender   Age  \\\n",
       "0  0.0    15674932  Okwudilichukwu          668    France   Male  33.0   \n",
       "1  1.0    15749177   Okwudiliolisa          627    France   Male  33.0   \n",
       "2  2.0    15694510           Hsueh          678    France   Male  40.0   \n",
       "3  3.0    15741417             Kao          581    France   Male  34.0   \n",
       "4  4.0    15766172       Chiemenam          716     Spain   Male  33.0   \n",
       "\n",
       "   Tenure    Balance  NumOfProducts  HasCrCard  IsActiveMember  \\\n",
       "0       3       0.00              2        1.0             0.0   \n",
       "1       1       0.00              2        1.0             1.0   \n",
       "2      10       0.00              2        1.0             0.0   \n",
       "3       2  148882.54              1        1.0             1.0   \n",
       "4       5       0.00              2        1.0             1.0   \n",
       "\n",
       "   EstimatedSalary  Exited  \n",
       "0        181449.97       0  \n",
       "1         49503.50       0  \n",
       "2        184866.69       0  \n",
       "3         84560.88       0  \n",
       "4         15068.83       0  "
      ]
     },
     "execution_count": 7,
     "metadata": {},
     "output_type": "execute_result"
    }
   ],
   "source": [
    "print(\"train :\", train.shape)\n",
    "print(\"test :\", test.shape)\n",
    "train.head()"
   ]
  },
  {
   "cell_type": "code",
   "execution_count": 8,
   "id": "c94dca7d",
   "metadata": {
    "execution": {
     "iopub.execute_input": "2024-01-30T11:10:13.985704Z",
     "iopub.status.busy": "2024-01-30T11:10:13.985378Z",
     "iopub.status.idle": "2024-01-30T11:10:14.086428Z",
     "shell.execute_reply": "2024-01-30T11:10:14.085442Z"
    },
    "papermill": {
     "duration": 0.116313,
     "end_time": "2024-01-30T11:10:14.088709",
     "exception": false,
     "start_time": "2024-01-30T11:10:13.972396",
     "status": "completed"
    },
    "tags": []
   },
   "outputs": [
    {
     "data": {
      "text/plain": [
       "0"
      ]
     },
     "execution_count": 8,
     "metadata": {},
     "output_type": "execute_result"
    }
   ],
   "source": [
    "train.duplicated().sum()"
   ]
  },
  {
   "cell_type": "code",
   "execution_count": 9,
   "id": "98ee00ed",
   "metadata": {
    "execution": {
     "iopub.execute_input": "2024-01-30T11:10:14.115319Z",
     "iopub.status.busy": "2024-01-30T11:10:14.114952Z",
     "iopub.status.idle": "2024-01-30T11:10:14.229424Z",
     "shell.execute_reply": "2024-01-30T11:10:14.228505Z"
    },
    "papermill": {
     "duration": 0.129787,
     "end_time": "2024-01-30T11:10:14.231439",
     "exception": false,
     "start_time": "2024-01-30T11:10:14.101652",
     "status": "completed"
    },
    "tags": []
   },
   "outputs": [
    {
     "data": {
      "text/html": [
       "<div>\n",
       "<style scoped>\n",
       "    .dataframe tbody tr th:only-of-type {\n",
       "        vertical-align: middle;\n",
       "    }\n",
       "\n",
       "    .dataframe tbody tr th {\n",
       "        vertical-align: top;\n",
       "    }\n",
       "\n",
       "    .dataframe thead th {\n",
       "        text-align: right;\n",
       "    }\n",
       "</style>\n",
       "<table border=\"1\" class=\"dataframe\">\n",
       "  <thead>\n",
       "    <tr style=\"text-align: right;\">\n",
       "      <th></th>\n",
       "      <th>valeurs manquantes</th>\n",
       "      <th>% de valeurs manquantes</th>\n",
       "    </tr>\n",
       "  </thead>\n",
       "  <tbody>\n",
       "    <tr>\n",
       "      <th>id</th>\n",
       "      <td>0</td>\n",
       "      <td>0.0</td>\n",
       "    </tr>\n",
       "    <tr>\n",
       "      <th>CustomerId</th>\n",
       "      <td>0</td>\n",
       "      <td>0.0</td>\n",
       "    </tr>\n",
       "    <tr>\n",
       "      <th>Surname</th>\n",
       "      <td>0</td>\n",
       "      <td>0.0</td>\n",
       "    </tr>\n",
       "    <tr>\n",
       "      <th>CreditScore</th>\n",
       "      <td>0</td>\n",
       "      <td>0.0</td>\n",
       "    </tr>\n",
       "    <tr>\n",
       "      <th>Geography</th>\n",
       "      <td>0</td>\n",
       "      <td>0.0</td>\n",
       "    </tr>\n",
       "    <tr>\n",
       "      <th>Gender</th>\n",
       "      <td>0</td>\n",
       "      <td>0.0</td>\n",
       "    </tr>\n",
       "    <tr>\n",
       "      <th>Age</th>\n",
       "      <td>0</td>\n",
       "      <td>0.0</td>\n",
       "    </tr>\n",
       "    <tr>\n",
       "      <th>Tenure</th>\n",
       "      <td>0</td>\n",
       "      <td>0.0</td>\n",
       "    </tr>\n",
       "    <tr>\n",
       "      <th>Balance</th>\n",
       "      <td>0</td>\n",
       "      <td>0.0</td>\n",
       "    </tr>\n",
       "    <tr>\n",
       "      <th>NumOfProducts</th>\n",
       "      <td>0</td>\n",
       "      <td>0.0</td>\n",
       "    </tr>\n",
       "    <tr>\n",
       "      <th>HasCrCard</th>\n",
       "      <td>0</td>\n",
       "      <td>0.0</td>\n",
       "    </tr>\n",
       "    <tr>\n",
       "      <th>IsActiveMember</th>\n",
       "      <td>0</td>\n",
       "      <td>0.0</td>\n",
       "    </tr>\n",
       "    <tr>\n",
       "      <th>EstimatedSalary</th>\n",
       "      <td>0</td>\n",
       "      <td>0.0</td>\n",
       "    </tr>\n",
       "    <tr>\n",
       "      <th>Exited</th>\n",
       "      <td>0</td>\n",
       "      <td>0.0</td>\n",
       "    </tr>\n",
       "  </tbody>\n",
       "</table>\n",
       "</div>"
      ],
      "text/plain": [
       "                 valeurs manquantes  % de valeurs manquantes\n",
       "id                                0                      0.0\n",
       "CustomerId                        0                      0.0\n",
       "Surname                           0                      0.0\n",
       "CreditScore                       0                      0.0\n",
       "Geography                         0                      0.0\n",
       "Gender                            0                      0.0\n",
       "Age                               0                      0.0\n",
       "Tenure                            0                      0.0\n",
       "Balance                           0                      0.0\n",
       "NumOfProducts                     0                      0.0\n",
       "HasCrCard                         0                      0.0\n",
       "IsActiveMember                    0                      0.0\n",
       "EstimatedSalary                   0                      0.0\n",
       "Exited                            0                      0.0"
      ]
     },
     "execution_count": 9,
     "metadata": {},
     "output_type": "execute_result"
    }
   ],
   "source": [
    "# Création d'un tableau de visualisation des valeurs manquantes par colonnes\n",
    "val_maq = train.isnull().sum().sort_values(ascending = False)\n",
    "val_maq_percent = (train.isnull().sum()*100/len(train)).sort_values(ascending = False)\n",
    "d = {'valeurs manquantes':val_maq, '% de valeurs manquantes':val_maq_percent}\n",
    "df_miss_value = pd.DataFrame(d)\n",
    "df_miss_value"
   ]
  },
  {
   "cell_type": "code",
   "execution_count": 10,
   "id": "c69f68cf",
   "metadata": {
    "execution": {
     "iopub.execute_input": "2024-01-30T11:10:14.257387Z",
     "iopub.status.busy": "2024-01-30T11:10:14.257044Z",
     "iopub.status.idle": "2024-01-30T11:10:14.337019Z",
     "shell.execute_reply": "2024-01-30T11:10:14.335877Z"
    },
    "papermill": {
     "duration": 0.09544,
     "end_time": "2024-01-30T11:10:14.339198",
     "exception": false,
     "start_time": "2024-01-30T11:10:14.243758",
     "status": "completed"
    },
    "tags": []
   },
   "outputs": [
    {
     "data": {
      "text/html": [
       "<div>\n",
       "<style scoped>\n",
       "    .dataframe tbody tr th:only-of-type {\n",
       "        vertical-align: middle;\n",
       "    }\n",
       "\n",
       "    .dataframe tbody tr th {\n",
       "        vertical-align: top;\n",
       "    }\n",
       "\n",
       "    .dataframe thead th {\n",
       "        text-align: right;\n",
       "    }\n",
       "</style>\n",
       "<table border=\"1\" class=\"dataframe\">\n",
       "  <thead>\n",
       "    <tr style=\"text-align: right;\">\n",
       "      <th></th>\n",
       "      <th>valeurs manquantes</th>\n",
       "      <th>% de valeurs manquantes</th>\n",
       "    </tr>\n",
       "  </thead>\n",
       "  <tbody>\n",
       "    <tr>\n",
       "      <th>id</th>\n",
       "      <td>0</td>\n",
       "      <td>0.0</td>\n",
       "    </tr>\n",
       "    <tr>\n",
       "      <th>CustomerId</th>\n",
       "      <td>0</td>\n",
       "      <td>0.0</td>\n",
       "    </tr>\n",
       "    <tr>\n",
       "      <th>Surname</th>\n",
       "      <td>0</td>\n",
       "      <td>0.0</td>\n",
       "    </tr>\n",
       "    <tr>\n",
       "      <th>CreditScore</th>\n",
       "      <td>0</td>\n",
       "      <td>0.0</td>\n",
       "    </tr>\n",
       "    <tr>\n",
       "      <th>Geography</th>\n",
       "      <td>0</td>\n",
       "      <td>0.0</td>\n",
       "    </tr>\n",
       "    <tr>\n",
       "      <th>Gender</th>\n",
       "      <td>0</td>\n",
       "      <td>0.0</td>\n",
       "    </tr>\n",
       "    <tr>\n",
       "      <th>Age</th>\n",
       "      <td>0</td>\n",
       "      <td>0.0</td>\n",
       "    </tr>\n",
       "    <tr>\n",
       "      <th>Tenure</th>\n",
       "      <td>0</td>\n",
       "      <td>0.0</td>\n",
       "    </tr>\n",
       "    <tr>\n",
       "      <th>Balance</th>\n",
       "      <td>0</td>\n",
       "      <td>0.0</td>\n",
       "    </tr>\n",
       "    <tr>\n",
       "      <th>NumOfProducts</th>\n",
       "      <td>0</td>\n",
       "      <td>0.0</td>\n",
       "    </tr>\n",
       "    <tr>\n",
       "      <th>HasCrCard</th>\n",
       "      <td>0</td>\n",
       "      <td>0.0</td>\n",
       "    </tr>\n",
       "    <tr>\n",
       "      <th>IsActiveMember</th>\n",
       "      <td>0</td>\n",
       "      <td>0.0</td>\n",
       "    </tr>\n",
       "    <tr>\n",
       "      <th>EstimatedSalary</th>\n",
       "      <td>0</td>\n",
       "      <td>0.0</td>\n",
       "    </tr>\n",
       "  </tbody>\n",
       "</table>\n",
       "</div>"
      ],
      "text/plain": [
       "                 valeurs manquantes  % de valeurs manquantes\n",
       "id                                0                      0.0\n",
       "CustomerId                        0                      0.0\n",
       "Surname                           0                      0.0\n",
       "CreditScore                       0                      0.0\n",
       "Geography                         0                      0.0\n",
       "Gender                            0                      0.0\n",
       "Age                               0                      0.0\n",
       "Tenure                            0                      0.0\n",
       "Balance                           0                      0.0\n",
       "NumOfProducts                     0                      0.0\n",
       "HasCrCard                         0                      0.0\n",
       "IsActiveMember                    0                      0.0\n",
       "EstimatedSalary                   0                      0.0"
      ]
     },
     "execution_count": 10,
     "metadata": {},
     "output_type": "execute_result"
    }
   ],
   "source": [
    "# Création d'un tableau de visualisation des valeurs manquantes par colonnes\n",
    "val_maq = test.isnull().sum().sort_values(ascending = False)\n",
    "val_maq_percent = (test.isnull().sum()*100/len(test)).sort_values(ascending = False)\n",
    "d = {'valeurs manquantes':val_maq, '% de valeurs manquantes':val_maq_percent}\n",
    "df_miss_value = pd.DataFrame(d)\n",
    "df_miss_value"
   ]
  },
  {
   "cell_type": "code",
   "execution_count": 11,
   "id": "84d59a72",
   "metadata": {
    "execution": {
     "iopub.execute_input": "2024-01-30T11:10:14.367152Z",
     "iopub.status.busy": "2024-01-30T11:10:14.366243Z",
     "iopub.status.idle": "2024-01-30T11:10:14.470274Z",
     "shell.execute_reply": "2024-01-30T11:10:14.469082Z"
    },
    "papermill": {
     "duration": 0.120685,
     "end_time": "2024-01-30T11:10:14.472778",
     "exception": false,
     "start_time": "2024-01-30T11:10:14.352093",
     "status": "completed"
    },
    "tags": []
   },
   "outputs": [
    {
     "data": {
      "text/html": [
       "<div>\n",
       "<style scoped>\n",
       "    .dataframe tbody tr th:only-of-type {\n",
       "        vertical-align: middle;\n",
       "    }\n",
       "\n",
       "    .dataframe tbody tr th {\n",
       "        vertical-align: top;\n",
       "    }\n",
       "\n",
       "    .dataframe thead th {\n",
       "        text-align: right;\n",
       "    }\n",
       "</style>\n",
       "<table border=\"1\" class=\"dataframe\">\n",
       "  <thead>\n",
       "    <tr style=\"text-align: right;\">\n",
       "      <th></th>\n",
       "      <th>id</th>\n",
       "      <th>CustomerId</th>\n",
       "      <th>CreditScore</th>\n",
       "      <th>Age</th>\n",
       "      <th>Tenure</th>\n",
       "      <th>Balance</th>\n",
       "      <th>NumOfProducts</th>\n",
       "      <th>HasCrCard</th>\n",
       "      <th>IsActiveMember</th>\n",
       "      <th>EstimatedSalary</th>\n",
       "      <th>Exited</th>\n",
       "    </tr>\n",
       "  </thead>\n",
       "  <tbody>\n",
       "    <tr>\n",
       "      <th>count</th>\n",
       "      <td>165034.0000</td>\n",
       "      <td>1.650340e+05</td>\n",
       "      <td>165034.000000</td>\n",
       "      <td>165034.000000</td>\n",
       "      <td>165034.000000</td>\n",
       "      <td>165034.000000</td>\n",
       "      <td>165034.000000</td>\n",
       "      <td>165034.000000</td>\n",
       "      <td>165034.000000</td>\n",
       "      <td>165034.000000</td>\n",
       "      <td>165034.000000</td>\n",
       "    </tr>\n",
       "    <tr>\n",
       "      <th>mean</th>\n",
       "      <td>82516.5000</td>\n",
       "      <td>1.569201e+07</td>\n",
       "      <td>656.454373</td>\n",
       "      <td>38.125888</td>\n",
       "      <td>5.020353</td>\n",
       "      <td>55478.086689</td>\n",
       "      <td>1.554455</td>\n",
       "      <td>0.753954</td>\n",
       "      <td>0.497770</td>\n",
       "      <td>112574.822734</td>\n",
       "      <td>0.211599</td>\n",
       "    </tr>\n",
       "    <tr>\n",
       "      <th>std</th>\n",
       "      <td>47641.3565</td>\n",
       "      <td>7.139782e+04</td>\n",
       "      <td>80.103340</td>\n",
       "      <td>8.867205</td>\n",
       "      <td>2.806159</td>\n",
       "      <td>62817.663278</td>\n",
       "      <td>0.547154</td>\n",
       "      <td>0.430707</td>\n",
       "      <td>0.499997</td>\n",
       "      <td>50292.865585</td>\n",
       "      <td>0.408443</td>\n",
       "    </tr>\n",
       "    <tr>\n",
       "      <th>min</th>\n",
       "      <td>0.0000</td>\n",
       "      <td>1.556570e+07</td>\n",
       "      <td>350.000000</td>\n",
       "      <td>18.000000</td>\n",
       "      <td>0.000000</td>\n",
       "      <td>0.000000</td>\n",
       "      <td>1.000000</td>\n",
       "      <td>0.000000</td>\n",
       "      <td>0.000000</td>\n",
       "      <td>11.580000</td>\n",
       "      <td>0.000000</td>\n",
       "    </tr>\n",
       "    <tr>\n",
       "      <th>25%</th>\n",
       "      <td>41258.2500</td>\n",
       "      <td>1.563314e+07</td>\n",
       "      <td>597.000000</td>\n",
       "      <td>32.000000</td>\n",
       "      <td>3.000000</td>\n",
       "      <td>0.000000</td>\n",
       "      <td>1.000000</td>\n",
       "      <td>1.000000</td>\n",
       "      <td>0.000000</td>\n",
       "      <td>74637.570000</td>\n",
       "      <td>0.000000</td>\n",
       "    </tr>\n",
       "    <tr>\n",
       "      <th>50%</th>\n",
       "      <td>82516.5000</td>\n",
       "      <td>1.569017e+07</td>\n",
       "      <td>659.000000</td>\n",
       "      <td>37.000000</td>\n",
       "      <td>5.000000</td>\n",
       "      <td>0.000000</td>\n",
       "      <td>2.000000</td>\n",
       "      <td>1.000000</td>\n",
       "      <td>0.000000</td>\n",
       "      <td>117948.000000</td>\n",
       "      <td>0.000000</td>\n",
       "    </tr>\n",
       "    <tr>\n",
       "      <th>75%</th>\n",
       "      <td>123774.7500</td>\n",
       "      <td>1.575682e+07</td>\n",
       "      <td>710.000000</td>\n",
       "      <td>42.000000</td>\n",
       "      <td>7.000000</td>\n",
       "      <td>119939.517500</td>\n",
       "      <td>2.000000</td>\n",
       "      <td>1.000000</td>\n",
       "      <td>1.000000</td>\n",
       "      <td>155152.467500</td>\n",
       "      <td>0.000000</td>\n",
       "    </tr>\n",
       "    <tr>\n",
       "      <th>max</th>\n",
       "      <td>165033.0000</td>\n",
       "      <td>1.581569e+07</td>\n",
       "      <td>850.000000</td>\n",
       "      <td>92.000000</td>\n",
       "      <td>10.000000</td>\n",
       "      <td>250898.090000</td>\n",
       "      <td>4.000000</td>\n",
       "      <td>1.000000</td>\n",
       "      <td>1.000000</td>\n",
       "      <td>199992.480000</td>\n",
       "      <td>1.000000</td>\n",
       "    </tr>\n",
       "  </tbody>\n",
       "</table>\n",
       "</div>"
      ],
      "text/plain": [
       "                id    CustomerId    CreditScore            Age         Tenure  \\\n",
       "count  165034.0000  1.650340e+05  165034.000000  165034.000000  165034.000000   \n",
       "mean    82516.5000  1.569201e+07     656.454373      38.125888       5.020353   \n",
       "std     47641.3565  7.139782e+04      80.103340       8.867205       2.806159   \n",
       "min         0.0000  1.556570e+07     350.000000      18.000000       0.000000   \n",
       "25%     41258.2500  1.563314e+07     597.000000      32.000000       3.000000   \n",
       "50%     82516.5000  1.569017e+07     659.000000      37.000000       5.000000   \n",
       "75%    123774.7500  1.575682e+07     710.000000      42.000000       7.000000   \n",
       "max    165033.0000  1.581569e+07     850.000000      92.000000      10.000000   \n",
       "\n",
       "             Balance  NumOfProducts      HasCrCard  IsActiveMember  \\\n",
       "count  165034.000000  165034.000000  165034.000000   165034.000000   \n",
       "mean    55478.086689       1.554455       0.753954        0.497770   \n",
       "std     62817.663278       0.547154       0.430707        0.499997   \n",
       "min         0.000000       1.000000       0.000000        0.000000   \n",
       "25%         0.000000       1.000000       1.000000        0.000000   \n",
       "50%         0.000000       2.000000       1.000000        0.000000   \n",
       "75%    119939.517500       2.000000       1.000000        1.000000   \n",
       "max    250898.090000       4.000000       1.000000        1.000000   \n",
       "\n",
       "       EstimatedSalary         Exited  \n",
       "count    165034.000000  165034.000000  \n",
       "mean     112574.822734       0.211599  \n",
       "std       50292.865585       0.408443  \n",
       "min          11.580000       0.000000  \n",
       "25%       74637.570000       0.000000  \n",
       "50%      117948.000000       0.000000  \n",
       "75%      155152.467500       0.000000  \n",
       "max      199992.480000       1.000000  "
      ]
     },
     "execution_count": 11,
     "metadata": {},
     "output_type": "execute_result"
    }
   ],
   "source": [
    "train.describe()"
   ]
  },
  {
   "cell_type": "code",
   "execution_count": 12,
   "id": "7d290794",
   "metadata": {
    "execution": {
     "iopub.execute_input": "2024-01-30T11:10:14.501739Z",
     "iopub.status.busy": "2024-01-30T11:10:14.501404Z",
     "iopub.status.idle": "2024-01-30T11:10:14.578885Z",
     "shell.execute_reply": "2024-01-30T11:10:14.577945Z"
    },
    "papermill": {
     "duration": 0.093396,
     "end_time": "2024-01-30T11:10:14.581175",
     "exception": false,
     "start_time": "2024-01-30T11:10:14.487779",
     "status": "completed"
    },
    "tags": []
   },
   "outputs": [
    {
     "data": {
      "text/plain": [
       "id                 165034\n",
       "CustomerId          23221\n",
       "Surname              2797\n",
       "CreditScore           457\n",
       "Geography               3\n",
       "Gender                  2\n",
       "Age                    71\n",
       "Tenure                 11\n",
       "Balance             30075\n",
       "NumOfProducts           4\n",
       "HasCrCard               2\n",
       "IsActiveMember          2\n",
       "EstimatedSalary     55298\n",
       "Exited                  2\n",
       "dtype: int64"
      ]
     },
     "execution_count": 12,
     "metadata": {},
     "output_type": "execute_result"
    }
   ],
   "source": [
    "train.nunique()"
   ]
  },
  {
   "cell_type": "code",
   "execution_count": 13,
   "id": "fea25094",
   "metadata": {
    "execution": {
     "iopub.execute_input": "2024-01-30T11:10:14.609266Z",
     "iopub.status.busy": "2024-01-30T11:10:14.608907Z",
     "iopub.status.idle": "2024-01-30T11:10:14.672742Z",
     "shell.execute_reply": "2024-01-30T11:10:14.671453Z"
    },
    "papermill": {
     "duration": 0.079778,
     "end_time": "2024-01-30T11:10:14.674999",
     "exception": false,
     "start_time": "2024-01-30T11:10:14.595221",
     "status": "completed"
    },
    "tags": []
   },
   "outputs": [
    {
     "name": "stdout",
     "output_type": "stream",
     "text": [
      "<class 'pandas.core.frame.DataFrame'>\n",
      "Index: 165034 entries, 0 to 165033\n",
      "Data columns (total 14 columns):\n",
      " #   Column           Non-Null Count   Dtype  \n",
      "---  ------           --------------   -----  \n",
      " 0   id               165034 non-null  float64\n",
      " 1   CustomerId       165034 non-null  int64  \n",
      " 2   Surname          165034 non-null  object \n",
      " 3   CreditScore      165034 non-null  int64  \n",
      " 4   Geography        165034 non-null  object \n",
      " 5   Gender           165034 non-null  object \n",
      " 6   Age              165034 non-null  float64\n",
      " 7   Tenure           165034 non-null  int64  \n",
      " 8   Balance          165034 non-null  float64\n",
      " 9   NumOfProducts    165034 non-null  int64  \n",
      " 10  HasCrCard        165034 non-null  float64\n",
      " 11  IsActiveMember   165034 non-null  float64\n",
      " 12  EstimatedSalary  165034 non-null  float64\n",
      " 13  Exited           165034 non-null  int64  \n",
      "dtypes: float64(6), int64(5), object(3)\n",
      "memory usage: 18.9+ MB\n"
     ]
    }
   ],
   "source": [
    " train.info()"
   ]
  },
  {
   "cell_type": "code",
   "execution_count": 14,
   "id": "7cc4e460",
   "metadata": {
    "execution": {
     "iopub.execute_input": "2024-01-30T11:10:14.749259Z",
     "iopub.status.busy": "2024-01-30T11:10:14.748854Z",
     "iopub.status.idle": "2024-01-30T11:10:14.763481Z",
     "shell.execute_reply": "2024-01-30T11:10:14.762652Z"
    },
    "papermill": {
     "duration": 0.031594,
     "end_time": "2024-01-30T11:10:14.766082",
     "exception": false,
     "start_time": "2024-01-30T11:10:14.734488",
     "status": "completed"
    },
    "tags": []
   },
   "outputs": [],
   "source": [
    "#train = train.drop(['id','CustomerId','Surname'], axis=1)\n",
    "train = train.drop(['id','CustomerId'], axis=1)"
   ]
  },
  {
   "cell_type": "markdown",
   "id": "7d82f9dc",
   "metadata": {
    "execution": {
     "iopub.execute_input": "2024-01-27T09:35:00.411536Z",
     "iopub.status.busy": "2024-01-27T09:35:00.411237Z",
     "iopub.status.idle": "2024-01-27T09:35:00.736762Z",
     "shell.execute_reply": "2024-01-27T09:35:00.735837Z",
     "shell.execute_reply.started": "2024-01-27T09:35:00.411511Z"
    },
    "papermill": {
     "duration": 0.012777,
     "end_time": "2024-01-30T11:10:14.793216",
     "exception": false,
     "start_time": "2024-01-30T11:10:14.780439",
     "status": "completed"
    },
    "tags": []
   },
   "source": [
    "print('train')\n",
    "print(train.duplicated().sum())\n",
    "train.drop_duplicates(inplace=True)\n",
    "print(train.duplicated().sum())\n",
    "print('test')\n",
    "print(test.duplicated().sum())\n",
    "test.drop_duplicates(inplace=True)\n",
    "print(test.duplicated().sum())"
   ]
  },
  {
   "cell_type": "code",
   "execution_count": 15,
   "id": "96672834",
   "metadata": {
    "execution": {
     "iopub.execute_input": "2024-01-30T11:10:14.820113Z",
     "iopub.status.busy": "2024-01-30T11:10:14.819766Z",
     "iopub.status.idle": "2024-01-30T11:10:14.825833Z",
     "shell.execute_reply": "2024-01-30T11:10:14.824916Z"
    },
    "papermill": {
     "duration": 0.021965,
     "end_time": "2024-01-30T11:10:14.828078",
     "exception": false,
     "start_time": "2024-01-30T11:10:14.806113",
     "status": "completed"
    },
    "tags": []
   },
   "outputs": [
    {
     "data": {
      "text/plain": [
       "(165034, 12)"
      ]
     },
     "execution_count": 15,
     "metadata": {},
     "output_type": "execute_result"
    }
   ],
   "source": [
    "train.shape"
   ]
  },
  {
   "cell_type": "code",
   "execution_count": 16,
   "id": "5397aca5",
   "metadata": {
    "execution": {
     "iopub.execute_input": "2024-01-30T11:10:14.854529Z",
     "iopub.status.busy": "2024-01-30T11:10:14.854230Z",
     "iopub.status.idle": "2024-01-30T11:10:14.860145Z",
     "shell.execute_reply": "2024-01-30T11:10:14.859207Z"
    },
    "papermill": {
     "duration": 0.021618,
     "end_time": "2024-01-30T11:10:14.862312",
     "exception": false,
     "start_time": "2024-01-30T11:10:14.840694",
     "status": "completed"
    },
    "tags": []
   },
   "outputs": [
    {
     "data": {
      "text/plain": [
       "Index(['Surname', 'CreditScore', 'Geography', 'Gender', 'Age', 'Tenure',\n",
       "       'Balance', 'NumOfProducts', 'HasCrCard', 'IsActiveMember',\n",
       "       'EstimatedSalary', 'Exited'],\n",
       "      dtype='object')"
      ]
     },
     "execution_count": 16,
     "metadata": {},
     "output_type": "execute_result"
    }
   ],
   "source": [
    "train.columns"
   ]
  },
  {
   "cell_type": "code",
   "execution_count": 17,
   "id": "8a98125d",
   "metadata": {
    "execution": {
     "iopub.execute_input": "2024-01-30T11:10:14.891105Z",
     "iopub.status.busy": "2024-01-30T11:10:14.890770Z",
     "iopub.status.idle": "2024-01-30T11:10:14.895471Z",
     "shell.execute_reply": "2024-01-30T11:10:14.894531Z"
    },
    "papermill": {
     "duration": 0.021649,
     "end_time": "2024-01-30T11:10:14.897414",
     "exception": false,
     "start_time": "2024-01-30T11:10:14.875765",
     "status": "completed"
    },
    "tags": []
   },
   "outputs": [],
   "source": [
    "cat_features =  ['Geography','Gender']\n",
    "num_features = ['CreditScore', 'Age', 'Tenure', 'Balance', 'NumOfProducts', 'HasCrCard',\n",
    "       'IsActiveMember', 'EstimatedSalary', 'Exited']"
   ]
  },
  {
   "cell_type": "code",
   "execution_count": 18,
   "id": "ad9adabf",
   "metadata": {
    "execution": {
     "iopub.execute_input": "2024-01-30T11:10:14.924922Z",
     "iopub.status.busy": "2024-01-30T11:10:14.924609Z",
     "iopub.status.idle": "2024-01-30T11:10:15.572922Z",
     "shell.execute_reply": "2024-01-30T11:10:15.571916Z"
    },
    "papermill": {
     "duration": 0.665065,
     "end_time": "2024-01-30T11:10:15.575566",
     "exception": false,
     "start_time": "2024-01-30T11:10:14.910501",
     "status": "completed"
    },
    "tags": []
   },
   "outputs": [
    {
     "data": {
      "image/png": "[encoded data removed]",
      "text/plain": [
       "<Figure size 700x500 with 2 Axes>"
      ]
     },
     "metadata": {},
     "output_type": "display_data"
    }
   ],
   "source": [
    "# Calculate correlation between each pair of variable\n",
    "corr_matrix=train[num_features].corr()\n",
    "# plot it\n",
    "plt.figure(figsize = (7,5))\n",
    "sns.heatmap(corr_matrix, annot=True)\n",
    "plt.show()"
   ]
  },
  {
   "cell_type": "code",
   "execution_count": 19,
   "id": "4b34c8e8",
   "metadata": {
    "execution": {
     "iopub.execute_input": "2024-01-30T11:10:15.607212Z",
     "iopub.status.busy": "2024-01-30T11:10:15.606753Z",
     "iopub.status.idle": "2024-01-30T11:10:15.820245Z",
     "shell.execute_reply": "2024-01-30T11:10:15.819343Z"
    },
    "papermill": {
     "duration": 0.231804,
     "end_time": "2024-01-30T11:10:15.822395",
     "exception": false,
     "start_time": "2024-01-30T11:10:15.590591",
     "status": "completed"
    },
    "tags": []
   },
   "outputs": [
    {
     "data": {
      "image/png": "[encoded data removed]",
      "text/plain": [
       "<Figure size 300x300 with 1 Axes>"
      ]
     },
     "metadata": {},
     "output_type": "display_data"
    }
   ],
   "source": [
    "plt.figure(figsize=(3,3))\n",
    "sns.countplot(data = train, x = \"Exited\", palette=\"Blues_d\")\n",
    "plt.show()"
   ]
  },
  {
   "cell_type": "code",
   "execution_count": 20,
   "id": "575355f0",
   "metadata": {
    "execution": {
     "iopub.execute_input": "2024-01-30T11:10:15.853777Z",
     "iopub.status.busy": "2024-01-30T11:10:15.853418Z",
     "iopub.status.idle": "2024-01-30T11:10:15.860010Z",
     "shell.execute_reply": "2024-01-30T11:10:15.859038Z"
    },
    "papermill": {
     "duration": 0.024323,
     "end_time": "2024-01-30T11:10:15.861972",
     "exception": false,
     "start_time": "2024-01-30T11:10:15.837649",
     "status": "completed"
    },
    "tags": []
   },
   "outputs": [
    {
     "data": {
      "text/plain": [
       "Index(['Surname', 'CreditScore', 'Geography', 'Gender', 'Age', 'Tenure',\n",
       "       'Balance', 'NumOfProducts', 'HasCrCard', 'IsActiveMember',\n",
       "       'EstimatedSalary', 'Exited'],\n",
       "      dtype='object')"
      ]
     },
     "execution_count": 20,
     "metadata": {},
     "output_type": "execute_result"
    }
   ],
   "source": [
    "train.columns"
   ]
  },
  {
   "cell_type": "code",
   "execution_count": 21,
   "id": "292f7be4",
   "metadata": {
    "execution": {
     "iopub.execute_input": "2024-01-30T11:10:15.893116Z",
     "iopub.status.busy": "2024-01-30T11:10:15.892766Z",
     "iopub.status.idle": "2024-01-30T11:10:24.962158Z",
     "shell.execute_reply": "2024-01-30T11:10:24.961164Z"
    },
    "papermill": {
     "duration": 9.087378,
     "end_time": "2024-01-30T11:10:24.964416",
     "exception": false,
     "start_time": "2024-01-30T11:10:15.877038",
     "status": "completed"
    },
    "tags": []
   },
   "outputs": [
    {
     "data": {
      "text/plain": [
       "13955"
      ]
     },
     "execution_count": 21,
     "metadata": {},
     "output_type": "execute_result"
    }
   ],
   "source": [
    "from sklearn.feature_extraction.text import TfidfVectorizer\n",
    "import gc\n",
    "\n",
    "\n",
    "# we return same text, because here we dont do any tokenization because surnames are usually not sentences and regular english language\n",
    "def dummy(text):\n",
    "    return text\n",
    "\n",
    "vectorizer = TfidfVectorizer(ngram_range=(3, 5), lowercase=False, sublinear_tf=True, analyzer = 'word',\n",
    "    tokenizer = dummy,\n",
    "    preprocessor = dummy,\n",
    "    token_pattern = None, \n",
    "    strip_accents='unicode',\n",
    "    max_features=1000\n",
    ")\n",
    "\n",
    "vectorizer.fit(train[\"Surname\"])\n",
    "\n",
    "vocab = vectorizer.vocabulary_\n",
    "\n",
    "vectorizer = TfidfVectorizer(ngram_range=(3, 5), lowercase=False, sublinear_tf=True, vocabulary=vocab,\n",
    "                            analyzer = 'word',\n",
    "                            tokenizer = dummy,\n",
    "                            preprocessor = dummy,\n",
    "                            token_pattern = None, strip_accents='unicode', max_features=1000\n",
    "                            )\n",
    "\n",
    "\n",
    "train_surnames = vectorizer.fit_transform(train[\"Surname\"])\n",
    "test_surnames = vectorizer.transform(test[\"Surname\"])\n",
    "gc.collect()"
   ]
  },
  {
   "cell_type": "code",
   "execution_count": 22,
   "id": "24d114de",
   "metadata": {
    "execution": {
     "iopub.execute_input": "2024-01-30T11:10:24.996950Z",
     "iopub.status.busy": "2024-01-30T11:10:24.996627Z",
     "iopub.status.idle": "2024-01-30T11:10:37.923809Z",
     "shell.execute_reply": "2024-01-30T11:10:37.922196Z"
    },
    "papermill": {
     "duration": 12.948269,
     "end_time": "2024-01-30T11:10:37.928235",
     "exception": false,
     "start_time": "2024-01-30T11:10:24.979966",
     "status": "completed"
    },
    "tags": []
   },
   "outputs": [],
   "source": [
    "from sklearn.decomposition import PCA\n",
    "\n",
    "pca = PCA(n_components=10)\n",
    "tfidf_train_pca = pca.fit_transform(train_surnames.toarray())\n",
    "tfidf_test_pca = pca.transform(test_surnames.toarray())\n",
    "\n",
    "pca_columns = [f'Surname_PCA_{i+1}' for i in range(10)]\n",
    "df_train_pca = pd.DataFrame(tfidf_train_pca, columns=pca_columns)\n",
    "df_test_pca = pd.DataFrame(tfidf_test_pca, columns=pca_columns)"
   ]
  },
  {
   "cell_type": "code",
   "execution_count": 23,
   "id": "248c368d",
   "metadata": {
    "execution": {
     "iopub.execute_input": "2024-01-30T11:10:37.975333Z",
     "iopub.status.busy": "2024-01-30T11:10:37.974929Z",
     "iopub.status.idle": "2024-01-30T11:10:38.023942Z",
     "shell.execute_reply": "2024-01-30T11:10:38.022818Z"
    },
    "papermill": {
     "duration": 0.069055,
     "end_time": "2024-01-30T11:10:38.026603",
     "exception": false,
     "start_time": "2024-01-30T11:10:37.957548",
     "status": "completed"
    },
    "tags": []
   },
   "outputs": [],
   "source": [
    "train.reset_index(drop=True, inplace=True)\n",
    "df_train_pca.reset_index(drop=True, inplace=True)\n",
    "\n",
    "train = pd.concat([train, df_train_pca], axis=\"columns\")"
   ]
  },
  {
   "cell_type": "code",
   "execution_count": 24,
   "id": "6fe333d1",
   "metadata": {
    "execution": {
     "iopub.execute_input": "2024-01-30T11:10:38.061281Z",
     "iopub.status.busy": "2024-01-30T11:10:38.060895Z",
     "iopub.status.idle": "2024-01-30T11:10:38.078652Z",
     "shell.execute_reply": "2024-01-30T11:10:38.077683Z"
    },
    "papermill": {
     "duration": 0.037658,
     "end_time": "2024-01-30T11:10:38.081095",
     "exception": false,
     "start_time": "2024-01-30T11:10:38.043437",
     "status": "completed"
    },
    "tags": []
   },
   "outputs": [],
   "source": [
    "test.reset_index(drop=True, inplace=True)\n",
    "df_test_pca.reset_index(drop=True, inplace=True)\n",
    "\n",
    "test = pd.concat([test, df_test_pca], axis=\"columns\")"
   ]
  },
  {
   "cell_type": "code",
   "execution_count": 25,
   "id": "50d49744",
   "metadata": {
    "execution": {
     "iopub.execute_input": "2024-01-30T11:10:38.115533Z",
     "iopub.status.busy": "2024-01-30T11:10:38.115142Z",
     "iopub.status.idle": "2024-01-30T11:10:38.142440Z",
     "shell.execute_reply": "2024-01-30T11:10:38.141396Z"
    },
    "papermill": {
     "duration": 0.046921,
     "end_time": "2024-01-30T11:10:38.144737",
     "exception": false,
     "start_time": "2024-01-30T11:10:38.097816",
     "status": "completed"
    },
    "tags": []
   },
   "outputs": [],
   "source": [
    "train = train.drop(\"Surname\", axis=1)\n",
    "test  = test.drop(\"Surname\", axis=1)"
   ]
  },
  {
   "cell_type": "code",
   "execution_count": 26,
   "id": "be757c35",
   "metadata": {
    "execution": {
     "iopub.execute_input": "2024-01-30T11:10:38.178234Z",
     "iopub.status.busy": "2024-01-30T11:10:38.177876Z",
     "iopub.status.idle": "2024-01-30T11:10:38.206863Z",
     "shell.execute_reply": "2024-01-30T11:10:38.205746Z"
    },
    "papermill": {
     "duration": 0.048132,
     "end_time": "2024-01-30T11:10:38.209321",
     "exception": false,
     "start_time": "2024-01-30T11:10:38.161189",
     "status": "completed"
    },
    "tags": []
   },
   "outputs": [
    {
     "data": {
      "text/html": [
       "<div>\n",
       "<style scoped>\n",
       "    .dataframe tbody tr th:only-of-type {\n",
       "        vertical-align: middle;\n",
       "    }\n",
       "\n",
       "    .dataframe tbody tr th {\n",
       "        vertical-align: top;\n",
       "    }\n",
       "\n",
       "    .dataframe thead th {\n",
       "        text-align: right;\n",
       "    }\n",
       "</style>\n",
       "<table border=\"1\" class=\"dataframe\">\n",
       "  <thead>\n",
       "    <tr style=\"text-align: right;\">\n",
       "      <th></th>\n",
       "      <th>CreditScore</th>\n",
       "      <th>Geography</th>\n",
       "      <th>Gender</th>\n",
       "      <th>Age</th>\n",
       "      <th>Tenure</th>\n",
       "      <th>Balance</th>\n",
       "      <th>NumOfProducts</th>\n",
       "      <th>HasCrCard</th>\n",
       "      <th>IsActiveMember</th>\n",
       "      <th>EstimatedSalary</th>\n",
       "      <th>...</th>\n",
       "      <th>Surname_PCA_1</th>\n",
       "      <th>Surname_PCA_2</th>\n",
       "      <th>Surname_PCA_3</th>\n",
       "      <th>Surname_PCA_4</th>\n",
       "      <th>Surname_PCA_5</th>\n",
       "      <th>Surname_PCA_6</th>\n",
       "      <th>Surname_PCA_7</th>\n",
       "      <th>Surname_PCA_8</th>\n",
       "      <th>Surname_PCA_9</th>\n",
       "      <th>Surname_PCA_10</th>\n",
       "    </tr>\n",
       "  </thead>\n",
       "  <tbody>\n",
       "    <tr>\n",
       "      <th>0</th>\n",
       "      <td>668</td>\n",
       "      <td>France</td>\n",
       "      <td>Male</td>\n",
       "      <td>33.0</td>\n",
       "      <td>3</td>\n",
       "      <td>0.00</td>\n",
       "      <td>2</td>\n",
       "      <td>1.0</td>\n",
       "      <td>0.0</td>\n",
       "      <td>181449.97</td>\n",
       "      <td>...</td>\n",
       "      <td>0.422164</td>\n",
       "      <td>0.078779</td>\n",
       "      <td>0.056111</td>\n",
       "      <td>0.006506</td>\n",
       "      <td>0.007160</td>\n",
       "      <td>0.004225</td>\n",
       "      <td>0.017867</td>\n",
       "      <td>-0.005460</td>\n",
       "      <td>0.015325</td>\n",
       "      <td>0.006431</td>\n",
       "    </tr>\n",
       "    <tr>\n",
       "      <th>1</th>\n",
       "      <td>627</td>\n",
       "      <td>France</td>\n",
       "      <td>Male</td>\n",
       "      <td>33.0</td>\n",
       "      <td>1</td>\n",
       "      <td>0.00</td>\n",
       "      <td>2</td>\n",
       "      <td>1.0</td>\n",
       "      <td>1.0</td>\n",
       "      <td>49503.50</td>\n",
       "      <td>...</td>\n",
       "      <td>0.106374</td>\n",
       "      <td>0.008228</td>\n",
       "      <td>-0.005448</td>\n",
       "      <td>-0.002259</td>\n",
       "      <td>-0.020683</td>\n",
       "      <td>-0.026041</td>\n",
       "      <td>0.058038</td>\n",
       "      <td>-0.022968</td>\n",
       "      <td>0.019080</td>\n",
       "      <td>0.002391</td>\n",
       "    </tr>\n",
       "    <tr>\n",
       "      <th>2</th>\n",
       "      <td>678</td>\n",
       "      <td>France</td>\n",
       "      <td>Male</td>\n",
       "      <td>40.0</td>\n",
       "      <td>10</td>\n",
       "      <td>0.00</td>\n",
       "      <td>2</td>\n",
       "      <td>1.0</td>\n",
       "      <td>0.0</td>\n",
       "      <td>184866.69</td>\n",
       "      <td>...</td>\n",
       "      <td>-0.034268</td>\n",
       "      <td>-0.028503</td>\n",
       "      <td>-0.041873</td>\n",
       "      <td>-0.014015</td>\n",
       "      <td>-0.026880</td>\n",
       "      <td>-0.026632</td>\n",
       "      <td>-0.020685</td>\n",
       "      <td>0.022441</td>\n",
       "      <td>-0.048029</td>\n",
       "      <td>-0.014137</td>\n",
       "    </tr>\n",
       "    <tr>\n",
       "      <th>3</th>\n",
       "      <td>581</td>\n",
       "      <td>France</td>\n",
       "      <td>Male</td>\n",
       "      <td>34.0</td>\n",
       "      <td>2</td>\n",
       "      <td>148882.54</td>\n",
       "      <td>1</td>\n",
       "      <td>1.0</td>\n",
       "      <td>1.0</td>\n",
       "      <td>84560.88</td>\n",
       "      <td>...</td>\n",
       "      <td>-0.034515</td>\n",
       "      <td>-0.030006</td>\n",
       "      <td>-0.046696</td>\n",
       "      <td>-0.010891</td>\n",
       "      <td>-0.051566</td>\n",
       "      <td>-0.064367</td>\n",
       "      <td>-0.033203</td>\n",
       "      <td>0.036552</td>\n",
       "      <td>-0.067024</td>\n",
       "      <td>-0.010241</td>\n",
       "    </tr>\n",
       "    <tr>\n",
       "      <th>4</th>\n",
       "      <td>716</td>\n",
       "      <td>Spain</td>\n",
       "      <td>Male</td>\n",
       "      <td>33.0</td>\n",
       "      <td>5</td>\n",
       "      <td>0.00</td>\n",
       "      <td>2</td>\n",
       "      <td>1.0</td>\n",
       "      <td>1.0</td>\n",
       "      <td>15068.83</td>\n",
       "      <td>...</td>\n",
       "      <td>-0.025973</td>\n",
       "      <td>-0.033261</td>\n",
       "      <td>-0.029081</td>\n",
       "      <td>-0.015881</td>\n",
       "      <td>-0.043469</td>\n",
       "      <td>-0.038619</td>\n",
       "      <td>-0.045419</td>\n",
       "      <td>0.014975</td>\n",
       "      <td>-0.095308</td>\n",
       "      <td>-0.123515</td>\n",
       "    </tr>\n",
       "  </tbody>\n",
       "</table>\n",
       "<p>5 rows × 21 columns</p>\n",
       "</div>"
      ],
      "text/plain": [
       "   CreditScore Geography Gender   Age  Tenure    Balance  NumOfProducts  \\\n",
       "0          668    France   Male  33.0       3       0.00              2   \n",
       "1          627    France   Male  33.0       1       0.00              2   \n",
       "2          678    France   Male  40.0      10       0.00              2   \n",
       "3          581    France   Male  34.0       2  148882.54              1   \n",
       "4          716     Spain   Male  33.0       5       0.00              2   \n",
       "\n",
       "   HasCrCard  IsActiveMember  EstimatedSalary  ...  Surname_PCA_1  \\\n",
       "0        1.0             0.0        181449.97  ...       0.422164   \n",
       "1        1.0             1.0         49503.50  ...       0.106374   \n",
       "2        1.0             0.0        184866.69  ...      -0.034268   \n",
       "3        1.0             1.0         84560.88  ...      -0.034515   \n",
       "4        1.0             1.0         15068.83  ...      -0.025973   \n",
       "\n",
       "   Surname_PCA_2  Surname_PCA_3  Surname_PCA_4  Surname_PCA_5  Surname_PCA_6  \\\n",
       "0       0.078779       0.056111       0.006506       0.007160       0.004225   \n",
       "1       0.008228      -0.005448      -0.002259      -0.020683      -0.026041   \n",
       "2      -0.028503      -0.041873      -0.014015      -0.026880      -0.026632   \n",
       "3      -0.030006      -0.046696      -0.010891      -0.051566      -0.064367   \n",
       "4      -0.033261      -0.029081      -0.015881      -0.043469      -0.038619   \n",
       "\n",
       "   Surname_PCA_7  Surname_PCA_8  Surname_PCA_9  Surname_PCA_10  \n",
       "0       0.017867      -0.005460       0.015325        0.006431  \n",
       "1       0.058038      -0.022968       0.019080        0.002391  \n",
       "2      -0.020685       0.022441      -0.048029       -0.014137  \n",
       "3      -0.033203       0.036552      -0.067024       -0.010241  \n",
       "4      -0.045419       0.014975      -0.095308       -0.123515  \n",
       "\n",
       "[5 rows x 21 columns]"
      ]
     },
     "execution_count": 26,
     "metadata": {},
     "output_type": "execute_result"
    }
   ],
   "source": [
    "train.head()"
   ]
  },
  {
   "cell_type": "code",
   "execution_count": 27,
   "id": "af06612d",
   "metadata": {
    "execution": {
     "iopub.execute_input": "2024-01-30T11:10:38.244131Z",
     "iopub.status.busy": "2024-01-30T11:10:38.243769Z",
     "iopub.status.idle": "2024-01-30T11:10:38.256276Z",
     "shell.execute_reply": "2024-01-30T11:10:38.255292Z"
    },
    "papermill": {
     "duration": 0.03219,
     "end_time": "2024-01-30T11:10:38.258504",
     "exception": false,
     "start_time": "2024-01-30T11:10:38.226314",
     "status": "completed"
    },
    "tags": []
   },
   "outputs": [],
   "source": [
    "X = train.drop('Exited', axis = 1)\n",
    "y = train.Exited"
   ]
  },
  {
   "cell_type": "code",
   "execution_count": 28,
   "id": "6d2b897d",
   "metadata": {
    "execution": {
     "iopub.execute_input": "2024-01-30T11:10:38.293082Z",
     "iopub.status.busy": "2024-01-30T11:10:38.292768Z",
     "iopub.status.idle": "2024-01-30T11:26:32.944440Z",
     "shell.execute_reply": "2024-01-30T11:26:32.943283Z"
    },
    "papermill": {
     "duration": 954.686912,
     "end_time": "2024-01-30T11:26:32.962123",
     "exception": false,
     "start_time": "2024-01-30T11:10:38.275211",
     "status": "completed"
    },
    "tags": []
   },
   "outputs": [
    {
     "name": "stdout",
     "output_type": "stream",
     "text": [
      "Fitting 3 folds for each of 10 candidates, totalling 30 fits\n",
      "{'learning_rate': 0.015142386175008186, 'n_estimators': 1876}\n"
     ]
    }
   ],
   "source": [
    "# recherche des meilleurs paramètres\n",
    "\n",
    "param_grid = {\n",
    "    'learning_rate': uniform(0.01, 0.3),\n",
    "    'n_estimators': randint(1000, 2000),\n",
    "}\n",
    "\n",
    "# Paramètres pour la recherche par grille\n",
    "\n",
    "seed = 42\n",
    "splits = 3\n",
    "skf = StratifiedKFold(n_splits = splits, random_state = seed, shuffle = True)\n",
    "\n",
    "# Création du modèle\n",
    "model = CatBoostClassifier(task_type=\"GPU\",verbose=False)\n",
    "\n",
    "# Grid Search avec validation croisée stratifiée\n",
    "random_search = RandomizedSearchCV(model, param_grid, cv=skf, verbose=True)\n",
    "\n",
    "# Entraînement avec cat_features\n",
    "random_search.fit(X, y, cat_features=cat_features)\n",
    "\n",
    "# Meilleurs paramètres\n",
    "print(random_search.best_params_)"
   ]
  },
  {
   "cell_type": "code",
   "execution_count": 29,
   "id": "4f58f02f",
   "metadata": {
    "execution": {
     "iopub.execute_input": "2024-01-30T11:26:32.995868Z",
     "iopub.status.busy": "2024-01-30T11:26:32.995461Z",
     "iopub.status.idle": "2024-01-30T11:26:33.000911Z",
     "shell.execute_reply": "2024-01-30T11:26:33.000030Z"
    },
    "papermill": {
     "duration": 0.02472,
     "end_time": "2024-01-30T11:26:33.003314",
     "exception": false,
     "start_time": "2024-01-30T11:26:32.978594",
     "status": "completed"
    },
    "tags": []
   },
   "outputs": [],
   "source": [
    "best_params = random_search.best_params_"
   ]
  },
  {
   "cell_type": "code",
   "execution_count": 30,
   "id": "2b698b70",
   "metadata": {
    "execution": {
     "iopub.execute_input": "2024-01-30T11:26:33.039508Z",
     "iopub.status.busy": "2024-01-30T11:26:33.038860Z",
     "iopub.status.idle": "2024-01-30T11:28:47.997185Z",
     "shell.execute_reply": "2024-01-30T11:28:47.996152Z"
    },
    "papermill": {
     "duration": 134.977865,
     "end_time": "2024-01-30T11:28:47.999980",
     "exception": false,
     "start_time": "2024-01-30T11:26:33.022115",
     "status": "completed"
    },
    "tags": []
   },
   "outputs": [],
   "source": [
    "scale_cols = ['Age','CreditScore', 'Balance','EstimatedSalary']\n",
    "for tr, te in skf.split(X,y):\n",
    "    xtrain = X.iloc[tr]\n",
    "    xtest = X.iloc[te]\n",
    "    ytrain = y.iloc[tr]\n",
    "    ytest = y.iloc[te]\n",
    "    # Séparation des caractéristiques numériques et catégorielles\n",
    "    numeric_features = xtrain.select_dtypes(include=['number']).columns\n",
    "    categorical_features = xtrain.select_dtypes(exclude=['number']).columns\n",
    "\n",
    "    # Création de transformateurs pour les caractéristiques numériques et catégorielles\n",
    "    preprocessor = ColumnTransformer(\n",
    "        transformers=[\n",
    "            ('scale', MinMaxScaler(), scale_cols),\n",
    "            ('num', PolynomialFeatures(degree=2), numeric_features),\n",
    "            ('cat', OneHotEncoder(), categorical_features)\n",
    "        ])\n",
    "\n",
    "    # Création du pipeline\n",
    "    clf = CatBoostClassifier(**best_params, task_type=\"GPU\",verbose=False)\n",
    "    \n",
    "    pipeline = Pipeline(steps=[('preprocessor', preprocessor), ('classifier', clf)])\n",
    "\n",
    "    # Entraînement du pipeline\n",
    "    pipeline.fit(xtrain, ytrain)\n",
    "\n",
    "    # Faire des prédictions\n",
    "    train_preds = pipeline.predict_proba(xtrain)[:, 1]\n",
    "    val_preds = pipeline.predict_proba(xtest)[:, 1]"
   ]
  },
  {
   "cell_type": "code",
   "execution_count": 31,
   "id": "128d1878",
   "metadata": {
    "execution": {
     "iopub.execute_input": "2024-01-30T11:28:48.032602Z",
     "iopub.status.busy": "2024-01-30T11:28:48.031866Z",
     "iopub.status.idle": "2024-01-30T11:28:48.060793Z",
     "shell.execute_reply": "2024-01-30T11:28:48.059810Z"
    },
    "papermill": {
     "duration": 0.047284,
     "end_time": "2024-01-30T11:28:48.062909",
     "exception": false,
     "start_time": "2024-01-30T11:28:48.015625",
     "status": "completed"
    },
    "tags": []
   },
   "outputs": [
    {
     "data": {
      "text/plain": [
       "0.9053155875052367"
      ]
     },
     "execution_count": 31,
     "metadata": {},
     "output_type": "execute_result"
    }
   ],
   "source": [
    "prob =   train_preds\n",
    "fpr, tpr, thresholds = roc_curve(ytrain, prob)\n",
    "roc_auc = auc(fpr, tpr)\n",
    "roc_auc"
   ]
  },
  {
   "cell_type": "code",
   "execution_count": 32,
   "id": "cefbba05",
   "metadata": {
    "execution": {
     "iopub.execute_input": "2024-01-30T11:28:48.094707Z",
     "iopub.status.busy": "2024-01-30T11:28:48.094394Z",
     "iopub.status.idle": "2024-01-30T11:28:48.112619Z",
     "shell.execute_reply": "2024-01-30T11:28:48.111732Z"
    },
    "papermill": {
     "duration": 0.03608,
     "end_time": "2024-01-30T11:28:48.114627",
     "exception": false,
     "start_time": "2024-01-30T11:28:48.078547",
     "status": "completed"
    },
    "tags": []
   },
   "outputs": [
    {
     "data": {
      "text/plain": [
       "0.8918038333214087"
      ]
     },
     "execution_count": 32,
     "metadata": {},
     "output_type": "execute_result"
    }
   ],
   "source": [
    "prob =   val_preds\n",
    "fpr, tpr, thresholds = roc_curve(ytest, prob)\n",
    "roc_auc = auc(fpr, tpr)\n",
    "roc_auc"
   ]
  },
  {
   "cell_type": "code",
   "execution_count": 33,
   "id": "8bae3eda",
   "metadata": {
    "execution": {
     "iopub.execute_input": "2024-01-30T11:28:48.147126Z",
     "iopub.status.busy": "2024-01-30T11:28:48.146808Z",
     "iopub.status.idle": "2024-01-30T11:28:59.629192Z",
     "shell.execute_reply": "2024-01-30T11:28:59.628348Z"
    },
    "papermill": {
     "duration": 11.501448,
     "end_time": "2024-01-30T11:28:59.631721",
     "exception": false,
     "start_time": "2024-01-30T11:28:48.130273",
     "status": "completed"
    },
    "tags": []
   },
   "outputs": [],
   "source": [
    "y_pred = pipeline.predict_proba(test[X.columns])"
   ]
  },
  {
   "cell_type": "code",
   "execution_count": 34,
   "id": "a7e72901",
   "metadata": {
    "execution": {
     "iopub.execute_input": "2024-01-30T11:28:59.664905Z",
     "iopub.status.busy": "2024-01-30T11:28:59.664555Z",
     "iopub.status.idle": "2024-01-30T11:28:59.762368Z",
     "shell.execute_reply": "2024-01-30T11:28:59.761402Z"
    },
    "papermill": {
     "duration": 0.116883,
     "end_time": "2024-01-30T11:28:59.764419",
     "exception": false,
     "start_time": "2024-01-30T11:28:59.647536",
     "status": "completed"
    },
    "tags": []
   },
   "outputs": [
    {
     "data": {
      "text/html": [
       "<div>\n",
       "<style scoped>\n",
       "    .dataframe tbody tr th:only-of-type {\n",
       "        vertical-align: middle;\n",
       "    }\n",
       "\n",
       "    .dataframe tbody tr th {\n",
       "        vertical-align: top;\n",
       "    }\n",
       "\n",
       "    .dataframe thead th {\n",
       "        text-align: right;\n",
       "    }\n",
       "</style>\n",
       "<table border=\"1\" class=\"dataframe\">\n",
       "  <thead>\n",
       "    <tr style=\"text-align: right;\">\n",
       "      <th></th>\n",
       "      <th>id</th>\n",
       "      <th>CustomerId</th>\n",
       "      <th>CreditScore</th>\n",
       "      <th>Geography</th>\n",
       "      <th>Gender</th>\n",
       "      <th>Age</th>\n",
       "      <th>Tenure</th>\n",
       "      <th>Balance</th>\n",
       "      <th>NumOfProducts</th>\n",
       "      <th>HasCrCard</th>\n",
       "      <th>...</th>\n",
       "      <th>Surname_PCA_2</th>\n",
       "      <th>Surname_PCA_3</th>\n",
       "      <th>Surname_PCA_4</th>\n",
       "      <th>Surname_PCA_5</th>\n",
       "      <th>Surname_PCA_6</th>\n",
       "      <th>Surname_PCA_7</th>\n",
       "      <th>Surname_PCA_8</th>\n",
       "      <th>Surname_PCA_9</th>\n",
       "      <th>Surname_PCA_10</th>\n",
       "      <th>Exited</th>\n",
       "    </tr>\n",
       "  </thead>\n",
       "  <tbody>\n",
       "    <tr>\n",
       "      <th>0</th>\n",
       "      <td>165034</td>\n",
       "      <td>15773898</td>\n",
       "      <td>586</td>\n",
       "      <td>France</td>\n",
       "      <td>Female</td>\n",
       "      <td>23.0</td>\n",
       "      <td>2</td>\n",
       "      <td>0.00</td>\n",
       "      <td>2</td>\n",
       "      <td>0.0</td>\n",
       "      <td>...</td>\n",
       "      <td>-0.026930</td>\n",
       "      <td>-0.042851</td>\n",
       "      <td>-0.010475</td>\n",
       "      <td>-0.040756</td>\n",
       "      <td>-0.026125</td>\n",
       "      <td>-0.009358</td>\n",
       "      <td>0.024823</td>\n",
       "      <td>-0.066364</td>\n",
       "      <td>-0.032311</td>\n",
       "      <td>0.021841</td>\n",
       "    </tr>\n",
       "    <tr>\n",
       "      <th>1</th>\n",
       "      <td>165035</td>\n",
       "      <td>15782418</td>\n",
       "      <td>683</td>\n",
       "      <td>France</td>\n",
       "      <td>Female</td>\n",
       "      <td>46.0</td>\n",
       "      <td>2</td>\n",
       "      <td>0.00</td>\n",
       "      <td>1</td>\n",
       "      <td>1.0</td>\n",
       "      <td>...</td>\n",
       "      <td>-0.016406</td>\n",
       "      <td>-0.022610</td>\n",
       "      <td>-0.003375</td>\n",
       "      <td>-0.010731</td>\n",
       "      <td>-0.007013</td>\n",
       "      <td>-0.004103</td>\n",
       "      <td>0.007179</td>\n",
       "      <td>-0.011767</td>\n",
       "      <td>-0.003465</td>\n",
       "      <td>0.852413</td>\n",
       "    </tr>\n",
       "    <tr>\n",
       "      <th>2</th>\n",
       "      <td>165036</td>\n",
       "      <td>15807120</td>\n",
       "      <td>656</td>\n",
       "      <td>France</td>\n",
       "      <td>Female</td>\n",
       "      <td>34.0</td>\n",
       "      <td>7</td>\n",
       "      <td>0.00</td>\n",
       "      <td>2</td>\n",
       "      <td>1.0</td>\n",
       "      <td>...</td>\n",
       "      <td>-0.013315</td>\n",
       "      <td>-0.017832</td>\n",
       "      <td>-0.002615</td>\n",
       "      <td>-0.007597</td>\n",
       "      <td>-0.004914</td>\n",
       "      <td>-0.002927</td>\n",
       "      <td>0.005065</td>\n",
       "      <td>-0.008156</td>\n",
       "      <td>-0.002300</td>\n",
       "      <td>0.033750</td>\n",
       "    </tr>\n",
       "    <tr>\n",
       "      <th>3</th>\n",
       "      <td>165037</td>\n",
       "      <td>15808905</td>\n",
       "      <td>681</td>\n",
       "      <td>France</td>\n",
       "      <td>Male</td>\n",
       "      <td>36.0</td>\n",
       "      <td>8</td>\n",
       "      <td>0.00</td>\n",
       "      <td>1</td>\n",
       "      <td>1.0</td>\n",
       "      <td>...</td>\n",
       "      <td>-0.018324</td>\n",
       "      <td>-0.025750</td>\n",
       "      <td>-0.004361</td>\n",
       "      <td>-0.013758</td>\n",
       "      <td>-0.007986</td>\n",
       "      <td>-0.005165</td>\n",
       "      <td>0.009918</td>\n",
       "      <td>-0.014475</td>\n",
       "      <td>-0.006839</td>\n",
       "      <td>0.266242</td>\n",
       "    </tr>\n",
       "    <tr>\n",
       "      <th>4</th>\n",
       "      <td>165038</td>\n",
       "      <td>15607314</td>\n",
       "      <td>752</td>\n",
       "      <td>Germany</td>\n",
       "      <td>Male</td>\n",
       "      <td>38.0</td>\n",
       "      <td>10</td>\n",
       "      <td>121263.62</td>\n",
       "      <td>1</td>\n",
       "      <td>1.0</td>\n",
       "      <td>...</td>\n",
       "      <td>-0.013315</td>\n",
       "      <td>-0.017832</td>\n",
       "      <td>-0.002615</td>\n",
       "      <td>-0.007597</td>\n",
       "      <td>-0.004914</td>\n",
       "      <td>-0.002927</td>\n",
       "      <td>0.005065</td>\n",
       "      <td>-0.008156</td>\n",
       "      <td>-0.002300</td>\n",
       "      <td>0.371695</td>\n",
       "    </tr>\n",
       "  </tbody>\n",
       "</table>\n",
       "<p>5 rows × 23 columns</p>\n",
       "</div>"
      ],
      "text/plain": [
       "       id  CustomerId  CreditScore Geography  Gender   Age  Tenure    Balance  \\\n",
       "0  165034    15773898          586    France  Female  23.0       2       0.00   \n",
       "1  165035    15782418          683    France  Female  46.0       2       0.00   \n",
       "2  165036    15807120          656    France  Female  34.0       7       0.00   \n",
       "3  165037    15808905          681    France    Male  36.0       8       0.00   \n",
       "4  165038    15607314          752   Germany    Male  38.0      10  121263.62   \n",
       "\n",
       "   NumOfProducts  HasCrCard  ...  Surname_PCA_2  Surname_PCA_3  Surname_PCA_4  \\\n",
       "0              2        0.0  ...      -0.026930      -0.042851      -0.010475   \n",
       "1              1        1.0  ...      -0.016406      -0.022610      -0.003375   \n",
       "2              2        1.0  ...      -0.013315      -0.017832      -0.002615   \n",
       "3              1        1.0  ...      -0.018324      -0.025750      -0.004361   \n",
       "4              1        1.0  ...      -0.013315      -0.017832      -0.002615   \n",
       "\n",
       "   Surname_PCA_5  Surname_PCA_6  Surname_PCA_7  Surname_PCA_8  Surname_PCA_9  \\\n",
       "0      -0.040756      -0.026125      -0.009358       0.024823      -0.066364   \n",
       "1      -0.010731      -0.007013      -0.004103       0.007179      -0.011767   \n",
       "2      -0.007597      -0.004914      -0.002927       0.005065      -0.008156   \n",
       "3      -0.013758      -0.007986      -0.005165       0.009918      -0.014475   \n",
       "4      -0.007597      -0.004914      -0.002927       0.005065      -0.008156   \n",
       "\n",
       "   Surname_PCA_10    Exited  \n",
       "0       -0.032311  0.021841  \n",
       "1       -0.003465  0.852413  \n",
       "2       -0.002300  0.033750  \n",
       "3       -0.006839  0.266242  \n",
       "4       -0.002300  0.371695  \n",
       "\n",
       "[5 rows x 23 columns]"
      ]
     },
     "execution_count": 34,
     "metadata": {},
     "output_type": "execute_result"
    }
   ],
   "source": [
    "test['Exited']=[val[1] for val in y_pred]\n",
    "test.head()"
   ]
  },
  {
   "cell_type": "code",
   "execution_count": 35,
   "id": "8d8f8546",
   "metadata": {
    "execution": {
     "iopub.execute_input": "2024-01-30T11:28:59.797740Z",
     "iopub.status.busy": "2024-01-30T11:28:59.796954Z",
     "iopub.status.idle": "2024-01-30T11:28:59.802709Z",
     "shell.execute_reply": "2024-01-30T11:28:59.801822Z"
    },
    "papermill": {
     "duration": 0.024331,
     "end_time": "2024-01-30T11:28:59.804763",
     "exception": false,
     "start_time": "2024-01-30T11:28:59.780432",
     "status": "completed"
    },
    "tags": []
   },
   "outputs": [],
   "source": [
    "test_submission = test[['id', 'Exited']]"
   ]
  },
  {
   "cell_type": "code",
   "execution_count": 36,
   "id": "64b7b6e0",
   "metadata": {
    "execution": {
     "iopub.execute_input": "2024-01-30T11:28:59.838080Z",
     "iopub.status.busy": "2024-01-30T11:28:59.837522Z",
     "iopub.status.idle": "2024-01-30T11:29:00.258900Z",
     "shell.execute_reply": "2024-01-30T11:29:00.257910Z"
    },
    "papermill": {
     "duration": 0.440401,
     "end_time": "2024-01-30T11:29:00.261186",
     "exception": false,
     "start_time": "2024-01-30T11:28:59.820785",
     "status": "completed"
    },
    "tags": []
   },
   "outputs": [
    {
     "data": {
      "text/html": [
       "<div>\n",
       "<style scoped>\n",
       "    .dataframe tbody tr th:only-of-type {\n",
       "        vertical-align: middle;\n",
       "    }\n",
       "\n",
       "    .dataframe tbody tr th {\n",
       "        vertical-align: top;\n",
       "    }\n",
       "\n",
       "    .dataframe thead th {\n",
       "        text-align: right;\n",
       "    }\n",
       "</style>\n",
       "<table border=\"1\" class=\"dataframe\">\n",
       "  <thead>\n",
       "    <tr style=\"text-align: right;\">\n",
       "      <th></th>\n",
       "      <th>id</th>\n",
       "      <th>Exited</th>\n",
       "    </tr>\n",
       "  </thead>\n",
       "  <tbody>\n",
       "    <tr>\n",
       "      <th>0</th>\n",
       "      <td>165034</td>\n",
       "      <td>0.021841</td>\n",
       "    </tr>\n",
       "    <tr>\n",
       "      <th>1</th>\n",
       "      <td>165035</td>\n",
       "      <td>0.852413</td>\n",
       "    </tr>\n",
       "    <tr>\n",
       "      <th>2</th>\n",
       "      <td>165036</td>\n",
       "      <td>0.033750</td>\n",
       "    </tr>\n",
       "    <tr>\n",
       "      <th>3</th>\n",
       "      <td>165037</td>\n",
       "      <td>0.266242</td>\n",
       "    </tr>\n",
       "    <tr>\n",
       "      <th>4</th>\n",
       "      <td>165038</td>\n",
       "      <td>0.371695</td>\n",
       "    </tr>\n",
       "  </tbody>\n",
       "</table>\n",
       "</div>"
      ],
      "text/plain": [
       "       id    Exited\n",
       "0  165034  0.021841\n",
       "1  165035  0.852413\n",
       "2  165036  0.033750\n",
       "3  165037  0.266242\n",
       "4  165038  0.371695"
      ]
     },
     "execution_count": 36,
     "metadata": {},
     "output_type": "execute_result"
    }
   ],
   "source": [
    "# Save the submission DataFrame to a CSV file\n",
    "test_submission.to_csv('submission.csv', index=False)\n",
    "\n",
    "test_submission.head()"
   ]
  },
  {
   "cell_type": "markdown",
   "id": "55f18d07",
   "metadata": {
    "papermill": {
     "duration": 0.015045,
     "end_time": "2024-01-30T11:29:00.291921",
     "exception": false,
     "start_time": "2024-01-30T11:29:00.276876",
     "status": "completed"
    },
    "tags": []
   },
   "source": [
    "id\tExited\n",
    "0\t165034\t0.307458\n",
    "1\t165035\t0.641848\n",
    "2\t165036\t0.320465\n",
    "3\t165037\t0.392569\n",
    "4\t165038\t0.393511"
   ]
  }
 ],
 "metadata": {
  "kaggle": {
   "accelerator": "gpu",
   "dataSources": [
    {
     "databundleVersionId": 7405009,
     "sourceId": 65711,
     "sourceType": "competition"
    },
    {
     "datasetId": 3191230,
     "sourceId": 5536933,
     "sourceType": "datasetVersion"
    }
   ],
   "dockerImageVersionId": 30635,
   "isGpuEnabled": true,
   "isInternetEnabled": true,
   "language": "python",
   "sourceType": "notebook"
  },
  "kernelspec": {
   "display_name": "Python 3",
   "language": "python",
   "name": "python3"
  },
  "language_info": {
   "codemirror_mode": {
    "name": "ipython",
    "version": 3
   },
   "file_extension": ".py",
   "mimetype": "text/x-python",
   "name": "python",
   "nbconvert_exporter": "python",
   "pygments_lexer": "ipython3",
   "version": "3.10.12"
  },
  "papermill": {
   "default_parameters": {},
   "duration": 1134.684031,
   "end_time": "2024-01-30T11:29:00.930412",
   "environment_variables": {},
   "exception": null,
   "input_path": "__notebook__.ipynb",
   "output_path": "__notebook__.ipynb",
   "parameters": {},
   "start_time": "2024-01-30T11:10:06.246381",
   "version": "2.4.0"
  }
 },
 "nbformat": 4,
 "nbformat_minor": 5
}
